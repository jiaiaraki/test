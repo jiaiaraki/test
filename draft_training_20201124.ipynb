{
  "nbformat": 4,
  "nbformat_minor": 0,
  "metadata": {
    "colab": {
      "name": "draft_training_20201124.ipynb",
      "provenance": [],
      "collapsed_sections": [
        "pLaRQokawoHf",
        "H2WJo0l16sgu",
        "KwY2H7bU6xKe",
        "gKiPk-Apwn4I",
        "8YcAsBtT6cvv",
        "lRVQAr1SwnnD",
        "3R7Prysl7193",
        "0k315Xtfwof4",
        "RQ4AHrGZ8ZVk",
        "Lg6WdZwYwoTS",
        "BzPMglud-kox",
        "ewCAslc3AhwD",
        "7bo_PLd79dg8",
        "9kCxlxKr1KXe",
        "JvWKwOfA9WyD",
        "GbFdVR9Q3ol1",
        "TLSyRWFR9dAY"
      ],
      "authorship_tag": "ABX9TyOnuE4Ja40jl3ivaWuLvLBk",
      "include_colab_link": true
    },
    "kernelspec": {
      "name": "python3",
      "display_name": "Python 3"
    }
  },
  "cells": [
    {
      "cell_type": "markdown",
      "metadata": {
        "id": "view-in-github",
        "colab_type": "text"
      },
      "source": [
        "<a href=\"https://colab.research.google.com/github/jiaiaraki/test/blob/main/draft_training_20201124.ipynb\" target=\"_parent\"><img src=\"https://colab.research.google.com/assets/colab-badge.svg\" alt=\"Open In Colab\"/></a>"
      ]
    },
    {
      "cell_type": "markdown",
      "metadata": {
        "id": "pLaRQokawoHf"
      },
      "source": [
        "### 5. 条件判断と演算子：if文"
      ]
    },
    {
      "cell_type": "code",
      "metadata": {
        "id": "ylFetmjDOehZ"
      },
      "source": [
        "x = 1\n",
        "if x == 1:\n",
        "  print(\"x = 1\")"
      ],
      "execution_count": null,
      "outputs": []
    },
    {
      "cell_type": "code",
      "metadata": {
        "id": "HnX9xmf3Oe7d"
      },
      "source": [
        "x = 0\n",
        "if x == 1:\n",
        "  print(\"x = 1\")"
      ],
      "execution_count": null,
      "outputs": []
    },
    {
      "cell_type": "code",
      "metadata": {
        "id": "H0e2avh3S8Lp"
      },
      "source": [
        "x = 1\n",
        "if x != 1:\n",
        "  print(\"x ≠ 1\")"
      ],
      "execution_count": null,
      "outputs": []
    },
    {
      "cell_type": "code",
      "metadata": {
        "id": "HxNYDPeES8Rc"
      },
      "source": [
        "x = 0\n",
        "if x != 1:\n",
        "  print(\"x ≠ 1\")"
      ],
      "execution_count": null,
      "outputs": []
    },
    {
      "cell_type": "markdown",
      "metadata": {
        "id": "D3fbF7tzPamc"
      },
      "source": [
        "| 記号 | 真になる | 偽になる |\n",
        "| :--- | :--- | :--- |\n",
        "| == <br> is | 2つのデータが<br>等しい| 2つのデータが<br>等しくない |\n",
        "| != <br> is not | 2つのデータが<br>等しくない | 2つのデータが<br>等しい |"
      ]
    },
    {
      "cell_type": "code",
      "metadata": {
        "id": "4rRyJD55Xte0"
      },
      "source": [
        ""
      ],
      "execution_count": null,
      "outputs": []
    },
    {
      "cell_type": "code",
      "metadata": {
        "id": "O1OCnLJzXtz9"
      },
      "source": [
        ""
      ],
      "execution_count": null,
      "outputs": []
    },
    {
      "cell_type": "code",
      "metadata": {
        "id": "ViFAdPADXtRh"
      },
      "source": [
        ""
      ],
      "execution_count": null,
      "outputs": []
    },
    {
      "cell_type": "code",
      "metadata": {
        "id": "xHoQP3FcOe5D"
      },
      "source": [
        "x = 0\n",
        "if x < 1:\n",
        "  print(\"x < 1\")"
      ],
      "execution_count": null,
      "outputs": []
    },
    {
      "cell_type": "code",
      "metadata": {
        "id": "Qa3W_FDlO70P"
      },
      "source": [
        "x = 0\n",
        "if x > 1:\n",
        "  print(\"x > 1\")"
      ],
      "execution_count": null,
      "outputs": []
    },
    {
      "cell_type": "code",
      "metadata": {
        "id": "zzFSyQnoOe2C"
      },
      "source": [
        "x = 0\n",
        "if x <= 1:\n",
        "  print(\"x ≦ 1\")"
      ],
      "execution_count": null,
      "outputs": []
    },
    {
      "cell_type": "code",
      "metadata": {
        "id": "ARPa5nTtS04h"
      },
      "source": [
        "x = 0\n",
        "if x >= 1:\n",
        "  print(\"x ≧ 1\")"
      ],
      "execution_count": null,
      "outputs": []
    },
    {
      "cell_type": "markdown",
      "metadata": {
        "id": "wJdLyVFPR5yN"
      },
      "source": [
        "| 記号 | 真になる | 偽になる |\n",
        "| :--- | :--- | :--- |\n",
        "| < | 左の値が<br>右より<br>小さい | 左の値が<br>右より<br>小さくない |\n",
        "| > | 左の値が<br>右より<br>大きい | 左の値が<br>右より<br>大きくない |\n",
        "| <= | 左の値が<br>右以下 | 左の値が<br>右以下ではない |\n",
        "| >= | 左の値が<br>右以上 | 左の値が<br>右以上ではない |\n"
      ]
    },
    {
      "cell_type": "code",
      "metadata": {
        "id": "fbbVczKHk4xi"
      },
      "source": [
        ""
      ],
      "execution_count": null,
      "outputs": []
    },
    {
      "cell_type": "code",
      "metadata": {
        "id": "qoGPaiVEk46R"
      },
      "source": [
        ""
      ],
      "execution_count": null,
      "outputs": []
    },
    {
      "cell_type": "code",
      "metadata": {
        "id": "E6rk-zO6k4od"
      },
      "source": [
        ""
      ],
      "execution_count": null,
      "outputs": []
    },
    {
      "cell_type": "code",
      "metadata": {
        "id": "Ur81ND12UZX3"
      },
      "source": [
        "x, y = 0, 1\n",
        "if x == 1 & y == 1:\n",
        "  print(\"x = y = 1\")"
      ],
      "execution_count": null,
      "outputs": []
    },
    {
      "cell_type": "code",
      "metadata": {
        "id": "zwHhxxExUZVL"
      },
      "source": [
        "x, y = 0, 1\n",
        "if x == 1 | y == 1:\n",
        "  print(\"x = 1 or y = 1\")"
      ],
      "execution_count": null,
      "outputs": []
    },
    {
      "cell_type": "markdown",
      "metadata": {
        "id": "H0e1Kh7dUc8G"
      },
      "source": [
        "| 記号 | 意味 | 真になる | 偽になる |\n",
        "| :--- | :--- | :--- | :--- |\n",
        "| &<br>and | かつ<br>(AND) | 左右の条件が<br>両方真 | 左右の条件が<br>どちらか片方でも偽 |\n",
        "| $|$<br>or | または<br>(OR) | 左右の条件が<br>どちらか片方でも真 | 左右の条件が<br>両方偽 |"
      ]
    },
    {
      "cell_type": "code",
      "metadata": {
        "id": "6oPeeDEfUZQG"
      },
      "source": [
        ""
      ],
      "execution_count": null,
      "outputs": []
    },
    {
      "cell_type": "code",
      "metadata": {
        "id": "tZKidGvaUZNJ"
      },
      "source": [
        ""
      ],
      "execution_count": null,
      "outputs": []
    },
    {
      "cell_type": "code",
      "metadata": {
        "id": "BZBhVt_3UZI-"
      },
      "source": [
        ""
      ],
      "execution_count": null,
      "outputs": []
    },
    {
      "cell_type": "code",
      "metadata": {
        "id": "faTJ3S5KWE0G"
      },
      "source": [
        "x = 1\n",
        "y = [1, 2, 3]\n",
        "if x in y:\n",
        "  print(\"x is in y\")"
      ],
      "execution_count": null,
      "outputs": []
    },
    {
      "cell_type": "code",
      "metadata": {
        "id": "m3F1U87TWE-m"
      },
      "source": [
        "x = 0\n",
        "y = [1, 2, 3]\n",
        "if x not in y:\n",
        "  print(\"x is not in y\")"
      ],
      "execution_count": null,
      "outputs": []
    },
    {
      "cell_type": "markdown",
      "metadata": {
        "id": "AmdqyOvyXzYv"
      },
      "source": [
        "| 記号 | 真になる | 偽になる |\n",
        "| :--- | :--- | :--- |\n",
        "| in | 左のデータが<br>右に含まれる | 左のデータが<br>右に含まれない |\n",
        "| not in | 左のデータが<br>右に含まれない | 左のデータが<br>右に含まれる |"
      ]
    },
    {
      "cell_type": "code",
      "metadata": {
        "id": "qI3uscyeYSEV"
      },
      "source": [
        ""
      ],
      "execution_count": null,
      "outputs": []
    },
    {
      "cell_type": "code",
      "metadata": {
        "id": "kMjuZrAnYSMC"
      },
      "source": [
        ""
      ],
      "execution_count": null,
      "outputs": []
    },
    {
      "cell_type": "code",
      "metadata": {
        "id": "sX2zfZ7G1QLS"
      },
      "source": [
        ""
      ],
      "execution_count": null,
      "outputs": []
    },
    {
      "cell_type": "code",
      "metadata": {
        "id": "CpU7W2xkNiWR"
      },
      "source": [
        "x = 0\n",
        "if x == 1:\n",
        "  print(\"x = 1\")\n",
        "else:\n",
        "  print(\"x ≠ 1\")"
      ],
      "execution_count": null,
      "outputs": []
    },
    {
      "cell_type": "code",
      "metadata": {
        "id": "2115ebm01QOo"
      },
      "source": [
        "x = 0\n",
        "if x == 1:\n",
        "  print(\"x = 1\")\n",
        "else:\n",
        "  if x == 0:\n",
        "    print(\"x = 0\")\n",
        "  else:\n",
        "    print(\"x ≠ 0, x ≠ 1\")"
      ],
      "execution_count": null,
      "outputs": []
    },
    {
      "cell_type": "code",
      "metadata": {
        "id": "o0JB5Ebe1QWS"
      },
      "source": [
        "x = 2\n",
        "if x == 1:\n",
        "  print(\"x = 1\")\n",
        "elif x == 0:\n",
        "  print(\"x = 0\")\n",
        "else:\n",
        "  print(\"x ≠ 0, x ≠ 1\")"
      ],
      "execution_count": null,
      "outputs": []
    },
    {
      "cell_type": "code",
      "metadata": {
        "id": "mgykWUwr1QY3"
      },
      "source": [
        ""
      ],
      "execution_count": null,
      "outputs": []
    },
    {
      "cell_type": "code",
      "metadata": {
        "id": "jeKeEyzxbW-5"
      },
      "source": [
        ""
      ],
      "execution_count": null,
      "outputs": []
    },
    {
      "cell_type": "code",
      "metadata": {
        "id": "dAuqSet7bW7U"
      },
      "source": [
        ""
      ],
      "execution_count": null,
      "outputs": []
    },
    {
      "cell_type": "code",
      "metadata": {
        "id": "YY5qBZn4wn--"
      },
      "source": [
        ""
      ],
      "execution_count": null,
      "outputs": []
    },
    {
      "cell_type": "markdown",
      "metadata": {
        "id": "H2WJo0l16sgu"
      },
      "source": [
        "#### task : 「24」 を素因数分解するプログラムを作成"
      ]
    },
    {
      "cell_type": "code",
      "metadata": {
        "id": "hp6zWEB66sgu"
      },
      "source": [
        ""
      ],
      "execution_count": null,
      "outputs": []
    },
    {
      "cell_type": "code",
      "metadata": {
        "id": "uv1bvr3h6sgu"
      },
      "source": [
        ""
      ],
      "execution_count": null,
      "outputs": []
    },
    {
      "cell_type": "code",
      "metadata": {
        "id": "5nJAIyBl6sgu"
      },
      "source": [
        ""
      ],
      "execution_count": null,
      "outputs": []
    },
    {
      "cell_type": "code",
      "metadata": {
        "id": "dWMu2K376sgu"
      },
      "source": [
        ""
      ],
      "execution_count": null,
      "outputs": []
    },
    {
      "cell_type": "markdown",
      "metadata": {
        "id": "KwY2H7bU6xKe"
      },
      "source": [
        "#### task : 「1124」 を素因数分解するプログラムを作成"
      ]
    },
    {
      "cell_type": "code",
      "metadata": {
        "id": "uDPmcqPQ6xKe"
      },
      "source": [
        ""
      ],
      "execution_count": null,
      "outputs": []
    },
    {
      "cell_type": "code",
      "metadata": {
        "id": "yc8vE_VB6xKe"
      },
      "source": [
        ""
      ],
      "execution_count": null,
      "outputs": []
    },
    {
      "cell_type": "code",
      "metadata": {
        "id": "vS7YWv4z6xKe"
      },
      "source": [
        ""
      ],
      "execution_count": null,
      "outputs": []
    },
    {
      "cell_type": "code",
      "metadata": {
        "id": "9DNrfE-y6xKe"
      },
      "source": [
        ""
      ],
      "execution_count": null,
      "outputs": []
    },
    {
      "cell_type": "code",
      "metadata": {
        "id": "VTVphjlh6zX_"
      },
      "source": [
        "## 同じ処理・コードを何回も記述するのはスマートでない...見づらいし分かりにくくなるだけ"
      ],
      "execution_count": null,
      "outputs": []
    },
    {
      "cell_type": "markdown",
      "metadata": {
        "id": "gKiPk-Apwn4I"
      },
      "source": [
        "### 6. 繰り返し処理：for文"
      ]
    },
    {
      "cell_type": "code",
      "metadata": {
        "id": "pw-IhAuoNixo"
      },
      "source": [
        "for i in range(10):\n",
        "  print(i)"
      ],
      "execution_count": null,
      "outputs": []
    },
    {
      "cell_type": "code",
      "metadata": {
        "id": "4zVI3_Lgbjso"
      },
      "source": [
        "# range(stop) のように１つ引数を指定した場合\n",
        "# 0 ≦ i < stop の連番が生成される"
      ],
      "execution_count": null,
      "outputs": []
    },
    {
      "cell_type": "code",
      "metadata": {
        "id": "KHglePYebkGC"
      },
      "source": [
        ""
      ],
      "execution_count": null,
      "outputs": []
    },
    {
      "cell_type": "code",
      "metadata": {
        "id": "0r1ijF3Ak9nI"
      },
      "source": [
        ""
      ],
      "execution_count": null,
      "outputs": []
    },
    {
      "cell_type": "code",
      "metadata": {
        "id": "xlSPhr-KXGah"
      },
      "source": [
        "for i in range(3, 10):\n",
        "  print(i)"
      ],
      "execution_count": null,
      "outputs": []
    },
    {
      "cell_type": "code",
      "metadata": {
        "id": "7BRH8lu8bkJs"
      },
      "source": [
        "# range(start, stop) のように２つ引数を指定した場合\n",
        "# start ≦ i < stop の連番が生成される"
      ],
      "execution_count": null,
      "outputs": []
    },
    {
      "cell_type": "code",
      "metadata": {
        "id": "veQd2x3fdC8V"
      },
      "source": [
        ""
      ],
      "execution_count": null,
      "outputs": []
    },
    {
      "cell_type": "code",
      "metadata": {
        "id": "z2UueNkak9W2"
      },
      "source": [
        ""
      ],
      "execution_count": null,
      "outputs": []
    },
    {
      "cell_type": "code",
      "metadata": {
        "id": "oHe2iDA5XOx7"
      },
      "source": [
        "for i in range(2, 10, 2):\n",
        "  print(i)"
      ],
      "execution_count": null,
      "outputs": []
    },
    {
      "cell_type": "code",
      "metadata": {
        "id": "aXxJQqLodC_3"
      },
      "source": [
        "## range(start, stop, step) のように３つ引数を指定した場合\n",
        "# start ≦ i < stop で step ずつ増加する連番が生成される\n",
        "# 引数stepに負の値を指定すると減少していく"
      ],
      "execution_count": null,
      "outputs": []
    },
    {
      "cell_type": "code",
      "metadata": {
        "id": "9H8mSW1rdC6U"
      },
      "source": [
        ""
      ],
      "execution_count": null,
      "outputs": []
    },
    {
      "cell_type": "code",
      "metadata": {
        "id": "Qbo8vJStdtEu"
      },
      "source": [
        ""
      ],
      "execution_count": null,
      "outputs": []
    },
    {
      "cell_type": "code",
      "metadata": {
        "id": "zOWHF0ludtBv"
      },
      "source": [
        ""
      ],
      "execution_count": null,
      "outputs": []
    },
    {
      "cell_type": "code",
      "metadata": {
        "id": "r-khiCqO1IRs"
      },
      "source": [
        "for i in range(10):\n",
        "  print(i)\n",
        "  if i == 5:\n",
        "    break"
      ],
      "execution_count": null,
      "outputs": []
    },
    {
      "cell_type": "code",
      "metadata": {
        "id": "3dNgIpdPeWvk"
      },
      "source": [
        "for i in range(10):\n",
        "  if i == 5:\n",
        "    break\n",
        "  print(i)"
      ],
      "execution_count": null,
      "outputs": []
    },
    {
      "cell_type": "code",
      "metadata": {
        "id": "lCaNm3rXdBr1"
      },
      "source": [
        "# break で for のループ処理から抜け出せる（ループ強制終了）"
      ],
      "execution_count": null,
      "outputs": []
    },
    {
      "cell_type": "code",
      "metadata": {
        "id": "VNUQ0g5sdBpw"
      },
      "source": [
        ""
      ],
      "execution_count": null,
      "outputs": []
    },
    {
      "cell_type": "code",
      "metadata": {
        "id": "zDLEUQfO6Gib"
      },
      "source": [
        ""
      ],
      "execution_count": null,
      "outputs": []
    },
    {
      "cell_type": "markdown",
      "metadata": {
        "id": "8YcAsBtT6cvv"
      },
      "source": [
        "#### task : 5.で作成した素因数分解するプログラムを、for文で書き直す"
      ]
    },
    {
      "cell_type": "code",
      "metadata": {
        "id": "tOTUmjz-6cvw"
      },
      "source": [
        ""
      ],
      "execution_count": null,
      "outputs": []
    },
    {
      "cell_type": "code",
      "metadata": {
        "id": "CiXYPgcJ7pog"
      },
      "source": [
        ""
      ],
      "execution_count": null,
      "outputs": []
    },
    {
      "cell_type": "code",
      "metadata": {
        "id": "n12dn1g87pqz"
      },
      "source": [
        ""
      ],
      "execution_count": null,
      "outputs": []
    },
    {
      "cell_type": "code",
      "metadata": {
        "id": "9EPeF4fP6cvw"
      },
      "source": [
        ""
      ],
      "execution_count": null,
      "outputs": []
    },
    {
      "cell_type": "code",
      "metadata": {
        "id": "4KZvb8BT6cvw"
      },
      "source": [
        ""
      ],
      "execution_count": null,
      "outputs": []
    },
    {
      "cell_type": "code",
      "metadata": {
        "id": "60TcbNC06cvw"
      },
      "source": [
        ""
      ],
      "execution_count": null,
      "outputs": []
    },
    {
      "cell_type": "markdown",
      "metadata": {
        "id": "lRVQAr1SwnnD"
      },
      "source": [
        "### 7. 回数がわからない繰り返し処理：while文"
      ]
    },
    {
      "cell_type": "code",
      "metadata": {
        "id": "dGOzEgJC1Kua"
      },
      "source": [
        "i = 0\n",
        "while i < 3:\n",
        "  print(i)\n",
        "  i = i + 1"
      ],
      "execution_count": null,
      "outputs": []
    },
    {
      "cell_type": "code",
      "metadata": {
        "id": "s7N_q2q-1K2k"
      },
      "source": [
        "i = 0\n",
        "while i < 3:\n",
        "  print(i, end=\" \")\n",
        "  i += 1\n",
        "  if i == 2:\n",
        "    break"
      ],
      "execution_count": null,
      "outputs": []
    },
    {
      "cell_type": "code",
      "metadata": {
        "id": "pEEvMp4o1K03"
      },
      "source": [
        "# for文と同様、break で while のループ処理から抜け出せる（ループ強制終了）"
      ],
      "execution_count": null,
      "outputs": []
    },
    {
      "cell_type": "code",
      "metadata": {
        "id": "zw8x7DHFh3DC"
      },
      "source": [
        ""
      ],
      "execution_count": null,
      "outputs": []
    },
    {
      "cell_type": "code",
      "metadata": {
        "id": "TRHQok5B1Kym"
      },
      "source": [
        ""
      ],
      "execution_count": null,
      "outputs": []
    },
    {
      "cell_type": "code",
      "metadata": {
        "id": "y1CGM6c2trSC"
      },
      "source": [
        ""
      ],
      "execution_count": null,
      "outputs": []
    },
    {
      "cell_type": "code",
      "metadata": {
        "id": "DFjqxoNrNjCg"
      },
      "source": [
        "i = 0\n",
        "while i < 9:\n",
        "  i += 1\n",
        "  if i == 1 or i == 3 or i == 4 or i == 7:\n",
        "    continue\n",
        "  j = 0\n",
        "  while j < 9:\n",
        "    j += 1\n",
        "    print(i * j, end=\" \")\n",
        "  print()"
      ],
      "execution_count": null,
      "outputs": []
    },
    {
      "cell_type": "code",
      "metadata": {
        "id": "1JB6qzmIgtY0"
      },
      "source": [
        "# continue でループの次の回の処理へと進む（whileのループ処理自体は終了させずに、現回のループ処理を打ち切る）"
      ],
      "execution_count": null,
      "outputs": []
    },
    {
      "cell_type": "code",
      "metadata": {
        "id": "Z0MHt0B9hfzA"
      },
      "source": [
        ""
      ],
      "execution_count": null,
      "outputs": []
    },
    {
      "cell_type": "code",
      "metadata": {
        "id": "SnhnhCLHhf3C"
      },
      "source": [
        ""
      ],
      "execution_count": null,
      "outputs": []
    },
    {
      "cell_type": "code",
      "metadata": {
        "id": "-Jb-_zxlhfwm"
      },
      "source": [
        ""
      ],
      "execution_count": null,
      "outputs": []
    },
    {
      "cell_type": "markdown",
      "metadata": {
        "id": "3R7Prysl7193"
      },
      "source": [
        "#### task : 6.で書き直した素因数分解するプログラムを、while文により 1124 以外でも使えるよう一般化する"
      ]
    },
    {
      "cell_type": "code",
      "metadata": {
        "id": "hqoBZ7Ll7193"
      },
      "source": [
        ""
      ],
      "execution_count": null,
      "outputs": []
    },
    {
      "cell_type": "code",
      "metadata": {
        "id": "77mZwc-K7193"
      },
      "source": [
        ""
      ],
      "execution_count": null,
      "outputs": []
    },
    {
      "cell_type": "code",
      "metadata": {
        "id": "NndTfp8R7193"
      },
      "source": [
        ""
      ],
      "execution_count": null,
      "outputs": []
    },
    {
      "cell_type": "code",
      "metadata": {
        "id": "nb-f6Jgu7193"
      },
      "source": [
        ""
      ],
      "execution_count": null,
      "outputs": []
    },
    {
      "cell_type": "code",
      "metadata": {
        "id": "bvc45qOY7193"
      },
      "source": [
        ""
      ],
      "execution_count": null,
      "outputs": []
    },
    {
      "cell_type": "code",
      "metadata": {
        "id": "IXaHhMsB7193"
      },
      "source": [
        ""
      ],
      "execution_count": null,
      "outputs": []
    },
    {
      "cell_type": "markdown",
      "metadata": {
        "id": "0k315Xtfwof4"
      },
      "source": [
        "### 8. 関数を自作"
      ]
    },
    {
      "cell_type": "code",
      "metadata": {
        "id": "rAIvUUkwNhrS"
      },
      "source": [
        "'''\n",
        "def <関数名>(<引数1>, <引数2>, ... , <引数n>):\n",
        "  （処理の記述）\n",
        "  ...\n",
        "  （処理の記述）\n",
        "  return <戻り値/返り値>\n",
        "'''"
      ],
      "execution_count": null,
      "outputs": []
    },
    {
      "cell_type": "code",
      "metadata": {
        "id": "CvFEX8JkBKT_"
      },
      "source": [
        "def add(x, y):\n",
        "  return x + y\n",
        "\n",
        "# ここの空白行はなくても動作しますが、Python のスタイルガイド (PEP8) でトップレベルに定義した関数定義及びクラス定義は、\n",
        "# 二つの空白行で囲む(Surround top-level function and class definitions with two blank lines.) \n",
        "# ことが推奨されています。\n",
        "\n",
        "c = add(1, 3)\n",
        "print(c)"
      ],
      "execution_count": null,
      "outputs": []
    },
    {
      "cell_type": "code",
      "metadata": {
        "id": "egL7sdBeDRnW"
      },
      "source": [
        "# 引数を変数として、関数の中だけで使用できる\n",
        "# 引数には、関数を使う（呼び出した）際に渡すデータが格納されて、記述された処理が実行されていく"
      ],
      "execution_count": null,
      "outputs": []
    },
    {
      "cell_type": "code",
      "metadata": {
        "id": "RIDSgKGykz1K"
      },
      "source": [
        ""
      ],
      "execution_count": null,
      "outputs": []
    },
    {
      "cell_type": "code",
      "metadata": {
        "id": "5IuUGTvUyVOm"
      },
      "source": [
        ""
      ],
      "execution_count": null,
      "outputs": []
    },
    {
      "cell_type": "code",
      "metadata": {
        "id": "3V0wSp38C7Ec"
      },
      "source": [
        "def add2(w, z):\n",
        "  a = w + z\n",
        "  return a\n",
        "\n",
        "\n",
        "d = add2(1, 3)\n",
        "print(d)"
      ],
      "execution_count": null,
      "outputs": []
    },
    {
      "cell_type": "code",
      "metadata": {
        "id": "6m0JZoxlBKnQ"
      },
      "source": [
        "# 関数の中で新たな変数を定義してよい"
      ],
      "execution_count": null,
      "outputs": []
    },
    {
      "cell_type": "code",
      "metadata": {
        "id": "-qXIZix7k0cf"
      },
      "source": [
        ""
      ],
      "execution_count": null,
      "outputs": []
    },
    {
      "cell_type": "code",
      "metadata": {
        "id": "7Oy3mNF7yVxX"
      },
      "source": [
        ""
      ],
      "execution_count": null,
      "outputs": []
    },
    {
      "cell_type": "code",
      "metadata": {
        "id": "iO1seWILBKqe"
      },
      "source": [
        "def add3(s, t):\n",
        "  ab = s + t\n",
        "  return b\n",
        "\n",
        "\n",
        "e = add3(1, 3)\n",
        "print(ab)"
      ],
      "execution_count": null,
      "outputs": []
    },
    {
      "cell_type": "code",
      "metadata": {
        "id": "KBxQvCp3BKRR"
      },
      "source": [
        "# 変数にはスコープ（定義/利用の有効範囲）がある"
      ],
      "execution_count": null,
      "outputs": []
    },
    {
      "cell_type": "code",
      "metadata": {
        "id": "BHmoo6QayWKl"
      },
      "source": [
        ""
      ],
      "execution_count": null,
      "outputs": []
    },
    {
      "cell_type": "code",
      "metadata": {
        "id": "krRvcUvlk1Ks"
      },
      "source": [
        ""
      ],
      "execution_count": null,
      "outputs": []
    },
    {
      "cell_type": "code",
      "metadata": {
        "id": "wc5b19kUNfzT"
      },
      "source": [
        "def add3(w = 1, z = 2):\n",
        "  a = w + z\n",
        "  return a\n",
        "\n",
        "\n",
        "f = add3(1, 3)\n",
        "print(\"f \\t: \", f)\n",
        "\n",
        "g = add3()\n",
        "print(\"g \\t: \", g)"
      ],
      "execution_count": null,
      "outputs": []
    },
    {
      "cell_type": "code",
      "metadata": {
        "id": "PXoqhc85Na5T"
      },
      "source": [
        "# 引数にはデフォルト値を設定することができ、関数を呼び出す際に引数を省略できるようになる"
      ],
      "execution_count": null,
      "outputs": []
    },
    {
      "cell_type": "code",
      "metadata": {
        "id": "1WyO7r7ENaNa"
      },
      "source": [
        ""
      ],
      "execution_count": null,
      "outputs": []
    },
    {
      "cell_type": "code",
      "metadata": {
        "id": "Nd2RaEjRBKOU"
      },
      "source": [
        ""
      ],
      "execution_count": null,
      "outputs": []
    },
    {
      "cell_type": "code",
      "metadata": {
        "id": "m8EKLBT9woan"
      },
      "source": [
        ""
      ],
      "execution_count": null,
      "outputs": []
    },
    {
      "cell_type": "markdown",
      "metadata": {
        "id": "RQ4AHrGZ8ZVk"
      },
      "source": [
        "#### task : 7.で一般化した素因数分解するプログラムを、自作関数化する"
      ]
    },
    {
      "cell_type": "markdown",
      "metadata": {
        "id": "Lg6WdZwYwoTS"
      },
      "source": [
        " ##### 実行後のプログラムに値を入力する方法：input()"
      ]
    },
    {
      "cell_type": "code",
      "metadata": {
        "id": "cKXKhqXgwoOG"
      },
      "source": [
        "print(\"好きな自然数を入力してね\")\n",
        "n = input(\">>\")\n",
        "print(n**2)"
      ],
      "execution_count": null,
      "outputs": []
    },
    {
      "cell_type": "code",
      "metadata": {
        "id": "qU6BiAify8ni"
      },
      "source": [
        "print(\"好きな自然数を入力してね\")\n",
        "n = input(\">>\")\n",
        "print(type(n))"
      ],
      "execution_count": null,
      "outputs": []
    },
    {
      "cell_type": "code",
      "metadata": {
        "id": "wfLS2PsqyfNK"
      },
      "source": [
        "# 入力された値は、str型（文字列）として返される"
      ],
      "execution_count": null,
      "outputs": []
    },
    {
      "cell_type": "code",
      "metadata": {
        "id": "85VEvVhX1HON"
      },
      "source": [
        "print(\"好きな自然数を入力してね\")\n",
        "n = input(\">>\")\n",
        "print(int(n)**2)"
      ],
      "execution_count": null,
      "outputs": []
    },
    {
      "cell_type": "code",
      "metadata": {
        "id": "9QHqBuPd1HSr"
      },
      "source": [
        ""
      ],
      "execution_count": null,
      "outputs": []
    },
    {
      "cell_type": "code",
      "metadata": {
        "id": "_e4QosEB1HWS"
      },
      "source": [
        ""
      ],
      "execution_count": null,
      "outputs": []
    },
    {
      "cell_type": "code",
      "metadata": {
        "id": "7uL9js9E8ZVk"
      },
      "source": [
        ""
      ],
      "execution_count": null,
      "outputs": []
    },
    {
      "cell_type": "code",
      "metadata": {
        "id": "_nvxGHZ08ZVk"
      },
      "source": [
        ""
      ],
      "execution_count": null,
      "outputs": []
    },
    {
      "cell_type": "code",
      "metadata": {
        "id": "zH-UQLF58ZVl"
      },
      "source": [
        ""
      ],
      "execution_count": null,
      "outputs": []
    },
    {
      "cell_type": "code",
      "metadata": {
        "id": "ZrMhEzuv8ZVl"
      },
      "source": [
        ""
      ],
      "execution_count": null,
      "outputs": []
    },
    {
      "cell_type": "code",
      "metadata": {
        "id": "rYmnpF998ZVl"
      },
      "source": [
        ""
      ],
      "execution_count": null,
      "outputs": []
    },
    {
      "cell_type": "code",
      "metadata": {
        "id": "33cnCkpk8ZVl"
      },
      "source": [
        ""
      ],
      "execution_count": null,
      "outputs": []
    },
    {
      "cell_type": "markdown",
      "metadata": {
        "id": "BzPMglud-kox"
      },
      "source": [
        "### 9. クラスを自作"
      ]
    },
    {
      "cell_type": "code",
      "metadata": {
        "id": "6TUzJglV-lZv"
      },
      "source": [
        "'''\n",
        "class <クラス名>:\n",
        "  def __init__(self, <インスタンス引数1>, <インスタンス引数2>, ... , <インスタンス引数n>):\n",
        "    （処理の記述）\n",
        "    ...\n",
        "    #################################\n",
        "    ## クラスの初期化時に必ず実行されるメソッド ##\n",
        "    #################################\n",
        "    ...\n",
        "    （処理の記述）\n",
        "\n",
        "  def <メソッド名1>(<引数1>, <引数2>, ... , <引数n>):\n",
        "    （処理の記述）\n",
        "    ...\n",
        "    （処理の記述）\n",
        "\n",
        "  def <メソッド名2>(<引数1>, <引数2>, ... , <引数n>):\n",
        "    （処理の記述）\n",
        "    ...\n",
        "    （処理の記述）\n",
        "\n",
        "  ...\n",
        "  ...\n",
        "  ...\n",
        "\n",
        "'''"
      ],
      "execution_count": null,
      "outputs": []
    },
    {
      "cell_type": "code",
      "metadata": {
        "id": "G7vTYp0k8-TF"
      },
      "source": [
        "# クラスの例（コンストラクタ　のみ）\n",
        "\n",
        "class TestClass:\n",
        "  def __init__(self, code, name):\n",
        "    self.code = code\n",
        "    self.name = name"
      ],
      "execution_count": null,
      "outputs": []
    },
    {
      "cell_type": "code",
      "metadata": {
        "id": "GwvhFcn7ALvK"
      },
      "source": [
        "classes = []\n",
        "classes.append(TestClass(1, 'テスト１'))\n",
        "classes.append(TestClass(2, 'テスト２'))\n",
        " \n",
        "for test_cls in classes:\n",
        "  print('===== Class =====')\n",
        "  print('code --> ' + str(test_cls.code))\n",
        "  print('name --> ' + test_cls.name)"
      ],
      "execution_count": null,
      "outputs": []
    },
    {
      "cell_type": "code",
      "metadata": {
        "id": "GgY6ZZpm8-Vk"
      },
      "source": [
        ""
      ],
      "execution_count": null,
      "outputs": []
    },
    {
      "cell_type": "code",
      "metadata": {
        "id": "98Dllqug8-ZP"
      },
      "source": [
        "# クラスの例（コンストラクタ　と　１つのメソッド）\n",
        "\n",
        "class Person:\n",
        "  def __init__(self, name, age):\n",
        "    print('[Person.__init__]')\n",
        "    self.name = name\n",
        "    self.age = age\n",
        "\n",
        "  def show_info(self):\n",
        "    print('[Person.show_info]')\n",
        "    print('%s (%d)' % (self.name, self.age))"
      ],
      "execution_count": null,
      "outputs": []
    },
    {
      "cell_type": "code",
      "metadata": {
        "id": "DcKYLvrh8-d3"
      },
      "source": [
        "p1 = Person('Ichiro Suzuki', 37)\n",
        "p2 = Person('Hanako Yamada', 35)\n",
        "\n",
        "p1.show_info()\n",
        "p2.show_info()"
      ],
      "execution_count": null,
      "outputs": []
    },
    {
      "cell_type": "code",
      "metadata": {
        "id": "q76YXPXE8-3T"
      },
      "source": [
        ""
      ],
      "execution_count": null,
      "outputs": []
    },
    {
      "cell_type": "code",
      "metadata": {
        "id": "g8c_Ipm4Ab4E"
      },
      "source": [
        ""
      ],
      "execution_count": null,
      "outputs": []
    },
    {
      "cell_type": "code",
      "metadata": {
        "id": "S45-LQERAb73"
      },
      "source": [
        ""
      ],
      "execution_count": null,
      "outputs": []
    },
    {
      "cell_type": "code",
      "metadata": {
        "id": "fQEBm9O18-YK"
      },
      "source": [
        ""
      ],
      "execution_count": null,
      "outputs": []
    },
    {
      "cell_type": "markdown",
      "metadata": {
        "id": "ewCAslc3AhwD"
      },
      "source": [
        "#### task : 8.で自作関数化した素因数分解するプログラムを、自作クラス化する"
      ]
    },
    {
      "cell_type": "code",
      "metadata": {
        "id": "pRikH8SRAhwD"
      },
      "source": [
        ""
      ],
      "execution_count": null,
      "outputs": []
    },
    {
      "cell_type": "code",
      "metadata": {
        "id": "TGY6JOJOAhwD"
      },
      "source": [
        ""
      ],
      "execution_count": null,
      "outputs": []
    },
    {
      "cell_type": "code",
      "metadata": {
        "id": "hisd6YKFAhwE"
      },
      "source": [
        ""
      ],
      "execution_count": null,
      "outputs": []
    },
    {
      "cell_type": "code",
      "metadata": {
        "id": "UzUvP2RuAhwE"
      },
      "source": [
        ""
      ],
      "execution_count": null,
      "outputs": []
    },
    {
      "cell_type": "code",
      "metadata": {
        "id": "kigtcLRWAhwE"
      },
      "source": [
        ""
      ],
      "execution_count": null,
      "outputs": []
    },
    {
      "cell_type": "code",
      "metadata": {
        "id": "Yvcl_VpGAhwE"
      },
      "source": [
        ""
      ],
      "execution_count": null,
      "outputs": []
    },
    {
      "cell_type": "code",
      "metadata": {
        "id": "Njlm-TeiAhwE"
      },
      "source": [
        ""
      ],
      "execution_count": null,
      "outputs": []
    },
    {
      "cell_type": "code",
      "metadata": {
        "id": "RIkLIG73AhwE"
      },
      "source": [
        ""
      ],
      "execution_count": null,
      "outputs": []
    },
    {
      "cell_type": "markdown",
      "metadata": {
        "id": "7bo_PLd79dg8"
      },
      "source": [
        "### 10. 数学計算用モジュール：math\n",
        "\n",
        "$\\downarrow \\downarrow$ 公式リファレンス $\\downarrow \\downarrow$\\\n",
        "https://docs.python.org/3/library/math.html\n"
      ]
    },
    {
      "cell_type": "markdown",
      "metadata": {
        "id": "9kCxlxKr1KXe"
      },
      "source": [
        "##### task : pdf教材で紹介されているメソッドを実際に使って確かめる"
      ]
    },
    {
      "cell_type": "code",
      "metadata": {
        "id": "WmCC2dzT3Fwg"
      },
      "source": [
        "# まずは math　を import"
      ],
      "execution_count": null,
      "outputs": []
    },
    {
      "cell_type": "code",
      "metadata": {
        "id": "kZb3uWMm3F_X"
      },
      "source": [
        ""
      ],
      "execution_count": null,
      "outputs": []
    },
    {
      "cell_type": "code",
      "metadata": {
        "id": "8HWn7BJ03FO5"
      },
      "source": [
        ""
      ],
      "execution_count": null,
      "outputs": []
    },
    {
      "cell_type": "code",
      "metadata": {
        "id": "Zrm0Y1kF9dm5"
      },
      "source": [
        "# math.exp(x) の精度を実験"
      ],
      "execution_count": null,
      "outputs": []
    },
    {
      "cell_type": "code",
      "metadata": {
        "id": "QNWNbCdYzYI-"
      },
      "source": [
        ""
      ],
      "execution_count": null,
      "outputs": []
    },
    {
      "cell_type": "code",
      "metadata": {
        "id": "YBcMStbg2wMj"
      },
      "source": [
        ""
      ],
      "execution_count": null,
      "outputs": []
    },
    {
      "cell_type": "code",
      "metadata": {
        "id": "hqDRFNwa2wPA"
      },
      "source": [
        "# math.expm1(x) の精度を実験"
      ],
      "execution_count": null,
      "outputs": []
    },
    {
      "cell_type": "code",
      "metadata": {
        "id": "hdxfOUPCzYLd"
      },
      "source": [
        ""
      ],
      "execution_count": null,
      "outputs": []
    },
    {
      "cell_type": "code",
      "metadata": {
        "id": "oDFoElU_zYNy"
      },
      "source": [
        ""
      ],
      "execution_count": null,
      "outputs": []
    },
    {
      "cell_type": "code",
      "metadata": {
        "id": "M4PW895czYSK"
      },
      "source": [
        "# 以下自由欄"
      ],
      "execution_count": null,
      "outputs": []
    },
    {
      "cell_type": "code",
      "metadata": {
        "id": "F5l8iB0K3bKS"
      },
      "source": [
        ""
      ],
      "execution_count": null,
      "outputs": []
    },
    {
      "cell_type": "code",
      "metadata": {
        "id": "m7OyaXLbzYUT"
      },
      "source": [
        ""
      ],
      "execution_count": null,
      "outputs": []
    },
    {
      "cell_type": "code",
      "metadata": {
        "id": "AoyPDLv7054z"
      },
      "source": [
        ""
      ],
      "execution_count": null,
      "outputs": []
    },
    {
      "cell_type": "markdown",
      "metadata": {
        "id": "JvWKwOfA9WyD"
      },
      "source": [
        "### 11.　グラフ描画ライブラリ：matplotlib\n",
        "\n",
        "$\\downarrow \\downarrow$ 公式リファレンス $\\downarrow \\downarrow$\\\n",
        "https://matplotlib.org/2.1.1/index.html\n"
      ]
    },
    {
      "cell_type": "markdown",
      "metadata": {
        "id": "GbFdVR9Q3ol1"
      },
      "source": [
        "##### task : pdf教材で紹介されているコードを実際に打ち込んで実行してみる"
      ]
    },
    {
      "cell_type": "code",
      "metadata": {
        "id": "L6_9ttaI9ZnR"
      },
      "source": [
        "# ライブラリをインポートする"
      ],
      "execution_count": null,
      "outputs": []
    },
    {
      "cell_type": "code",
      "metadata": {
        "id": "aylChBwy3l0Q"
      },
      "source": [
        ""
      ],
      "execution_count": null,
      "outputs": []
    },
    {
      "cell_type": "code",
      "metadata": {
        "id": "aKEg8g3F3l5I"
      },
      "source": [
        "# グラフの縦軸横軸を決める"
      ],
      "execution_count": null,
      "outputs": []
    },
    {
      "cell_type": "code",
      "metadata": {
        "id": "wgQV763a3l7j"
      },
      "source": [
        ""
      ],
      "execution_count": null,
      "outputs": []
    },
    {
      "cell_type": "code",
      "metadata": {
        "id": "ppLu0g9X3l9i"
      },
      "source": [
        "# グラフの種類を決める"
      ],
      "execution_count": null,
      "outputs": []
    },
    {
      "cell_type": "code",
      "metadata": {
        "id": "UmpRKoKA3mBO"
      },
      "source": [
        ""
      ],
      "execution_count": null,
      "outputs": []
    },
    {
      "cell_type": "code",
      "metadata": {
        "id": "X2WVOM8g4Icu"
      },
      "source": [
        "# グラフで可視化したいデータセットを生成する"
      ],
      "execution_count": null,
      "outputs": []
    },
    {
      "cell_type": "code",
      "metadata": {
        "id": "DTst_uqT4Ie-"
      },
      "source": [
        ""
      ],
      "execution_count": null,
      "outputs": []
    },
    {
      "cell_type": "code",
      "metadata": {
        "id": "-1AoOw_y4IlB"
      },
      "source": [
        "# グラフを出力させる"
      ],
      "execution_count": null,
      "outputs": []
    },
    {
      "cell_type": "code",
      "metadata": {
        "id": "NRT2yjo-4Iiu"
      },
      "source": [
        ""
      ],
      "execution_count": null,
      "outputs": []
    },
    {
      "cell_type": "code",
      "metadata": {
        "id": "llkC1oOa4Wht"
      },
      "source": [
        ""
      ],
      "execution_count": null,
      "outputs": []
    },
    {
      "cell_type": "code",
      "metadata": {
        "id": "gYiwa5asH1wp"
      },
      "source": [
        ""
      ],
      "execution_count": null,
      "outputs": []
    },
    {
      "cell_type": "code",
      "metadata": {
        "id": "QyRYwWRsH13R"
      },
      "source": [
        ""
      ],
      "execution_count": null,
      "outputs": []
    },
    {
      "cell_type": "code",
      "metadata": {
        "id": "QTdni78l3mF4"
      },
      "source": [
        ""
      ],
      "execution_count": null,
      "outputs": []
    },
    {
      "cell_type": "markdown",
      "metadata": {
        "id": "TLSyRWFR9dAY"
      },
      "source": [
        "### 12. より高度な描画ライブラリ：seaborn\n",
        "\n",
        "$\\downarrow \\downarrow$ 公式リファレンス $\\downarrow \\downarrow$\\\n",
        "https://seaborn.pydata.org/index.html\n"
      ]
    },
    {
      "cell_type": "code",
      "metadata": {
        "id": "_5pYYGTh9dZo"
      },
      "source": [
        "# 今回の講義ではライブラリ名の紹介だけにします\n",
        "# AIプログラミングのデモコードで実際に出てきたら一緒に解説する予定です\n",
        "# スキマ時間があれば上記リファレンスのサンプルコードを実行してみてください"
      ],
      "execution_count": null,
      "outputs": []
    },
    {
      "cell_type": "code",
      "metadata": {
        "id": "Lgt6B3_QGIjH"
      },
      "source": [
        ""
      ],
      "execution_count": null,
      "outputs": []
    },
    {
      "cell_type": "code",
      "metadata": {
        "id": "grKKfOTjGIld"
      },
      "source": [
        ""
      ],
      "execution_count": null,
      "outputs": []
    },
    {
      "cell_type": "markdown",
      "metadata": {
        "id": "oTmT1M8V9dsF"
      },
      "source": [
        " ### 13.　データ処理ライブラリ：pandas\n",
        "\n",
        "$\\downarrow \\downarrow$ 公式リファレンス $\\downarrow \\downarrow$\\\n",
        "https://pandas.pydata.org/pandas-docs/stable/index.html\n",
        "\n",
        "\\\n",
        "$\\downarrow \\downarrow$ 使い方のまとめ記事（日本語） $\\downarrow \\downarrow$\\\n",
        "https://note.nkmk.me/pandas/\n"
      ]
    },
    {
      "cell_type": "markdown",
      "metadata": {
        "id": "uNh6iRbfH9r2"
      },
      "source": [
        "##### task : pdf教材で紹介されているコードを実際に打ち込んで実行してみる"
      ]
    },
    {
      "cell_type": "code",
      "metadata": {
        "id": "vQnn9q_eH9r2"
      },
      "source": [
        "# ライブラリをインポートする"
      ],
      "execution_count": null,
      "outputs": []
    },
    {
      "cell_type": "code",
      "metadata": {
        "id": "Kb0oxN3jH9r2"
      },
      "source": [
        ""
      ],
      "execution_count": null,
      "outputs": []
    },
    {
      "cell_type": "code",
      "metadata": {
        "id": "xaj2hWNLH9r2"
      },
      "source": [
        "# データを生成する"
      ],
      "execution_count": null,
      "outputs": []
    },
    {
      "cell_type": "code",
      "metadata": {
        "id": "gPGPgSSmH9r2"
      },
      "source": [
        ""
      ],
      "execution_count": null,
      "outputs": []
    },
    {
      "cell_type": "code",
      "metadata": {
        "id": "AjpqYuVSH9r2"
      },
      "source": [
        "# 生成したデータを確認する"
      ],
      "execution_count": null,
      "outputs": []
    },
    {
      "cell_type": "code",
      "metadata": {
        "id": "SAw0NV3jH9r2"
      },
      "source": [
        ""
      ],
      "execution_count": null,
      "outputs": []
    },
    {
      "cell_type": "code",
      "metadata": {
        "id": "zn2uIeeRIXeE"
      },
      "source": [
        "# 自作インデックス付きのデータを生成する"
      ],
      "execution_count": null,
      "outputs": []
    },
    {
      "cell_type": "code",
      "metadata": {
        "id": "NX-BLYWqIXeE"
      },
      "source": [
        ""
      ],
      "execution_count": null,
      "outputs": []
    },
    {
      "cell_type": "code",
      "metadata": {
        "id": "bthMUELHIXeE"
      },
      "source": [
        "# 生成したデータを確認する"
      ],
      "execution_count": null,
      "outputs": []
    },
    {
      "cell_type": "code",
      "metadata": {
        "id": "XMNyW8nEIXeE"
      },
      "source": [
        ""
      ],
      "execution_count": null,
      "outputs": []
    },
    {
      "cell_type": "code",
      "metadata": {
        "id": "qptmjAagI1Bh"
      },
      "source": [
        ""
      ],
      "execution_count": null,
      "outputs": []
    },
    {
      "cell_type": "code",
      "metadata": {
        "id": "4zUSxDqAI1H-"
      },
      "source": [
        ""
      ],
      "execution_count": null,
      "outputs": []
    },
    {
      "cell_type": "code",
      "metadata": {
        "id": "iKEy6e6bH9r2"
      },
      "source": [
        "# 正規分布に従う乱数で作られるグラフを画面表示生成する"
      ],
      "execution_count": null,
      "outputs": []
    },
    {
      "cell_type": "code",
      "metadata": {
        "id": "Rh2OP2fnH9r2"
      },
      "source": [
        ""
      ],
      "execution_count": null,
      "outputs": []
    },
    {
      "cell_type": "code",
      "metadata": {
        "id": "mjH9JmQNH9r2"
      },
      "source": [
        ""
      ],
      "execution_count": null,
      "outputs": []
    },
    {
      "cell_type": "code",
      "metadata": {
        "id": "Bnj-Nu2YH9r2"
      },
      "source": [
        ""
      ],
      "execution_count": null,
      "outputs": []
    },
    {
      "cell_type": "code",
      "metadata": {
        "id": "tf_T4V-gH9r3"
      },
      "source": [
        "# 表データを生成する"
      ],
      "execution_count": null,
      "outputs": []
    },
    {
      "cell_type": "code",
      "metadata": {
        "id": "pynzHk6YJl9i"
      },
      "source": [
        ""
      ],
      "execution_count": null,
      "outputs": []
    },
    {
      "cell_type": "code",
      "metadata": {
        "id": "iIkL7CEAJ7rc"
      },
      "source": [
        ""
      ],
      "execution_count": null,
      "outputs": []
    },
    {
      "cell_type": "code",
      "metadata": {
        "id": "s1CgENESJ7vo"
      },
      "source": [
        ""
      ],
      "execution_count": null,
      "outputs": []
    },
    {
      "cell_type": "code",
      "metadata": {
        "id": "fLu5CGohJ7yb"
      },
      "source": [
        ""
      ],
      "execution_count": null,
      "outputs": []
    },
    {
      "cell_type": "code",
      "metadata": {
        "id": "6_vnep9aJ8Ir"
      },
      "source": [
        ""
      ],
      "execution_count": null,
      "outputs": []
    },
    {
      "cell_type": "code",
      "metadata": {
        "id": "avwwWRVQJmCG"
      },
      "source": [
        "# 表データの演算を試す"
      ],
      "execution_count": null,
      "outputs": []
    },
    {
      "cell_type": "code",
      "metadata": {
        "id": "96XJHfqYH9r3"
      },
      "source": [
        ""
      ],
      "execution_count": null,
      "outputs": []
    },
    {
      "cell_type": "code",
      "metadata": {
        "id": "c9Lb8KQaKGHv"
      },
      "source": [
        ""
      ],
      "execution_count": null,
      "outputs": []
    },
    {
      "cell_type": "code",
      "metadata": {
        "id": "a4C3HS3hKGKK"
      },
      "source": [
        ""
      ],
      "execution_count": null,
      "outputs": []
    },
    {
      "cell_type": "code",
      "metadata": {
        "id": "04zAewNTKGNi"
      },
      "source": [
        ""
      ],
      "execution_count": null,
      "outputs": []
    },
    {
      "cell_type": "code",
      "metadata": {
        "id": "YwNbjr1nKGRW"
      },
      "source": [
        ""
      ],
      "execution_count": null,
      "outputs": []
    },
    {
      "cell_type": "code",
      "metadata": {
        "id": "KcuTgBu1KGV8"
      },
      "source": [
        ""
      ],
      "execution_count": null,
      "outputs": []
    },
    {
      "cell_type": "code",
      "metadata": {
        "id": "rIApTcWiKM5q"
      },
      "source": [
        "# iris（あやめ）のデータセットを使う"
      ],
      "execution_count": null,
      "outputs": []
    },
    {
      "cell_type": "code",
      "metadata": {
        "id": "4f_liVzsKGcD"
      },
      "source": [
        ""
      ],
      "execution_count": null,
      "outputs": []
    },
    {
      "cell_type": "code",
      "metadata": {
        "id": "ska3s2a9KbRU"
      },
      "source": [
        ""
      ],
      "execution_count": null,
      "outputs": []
    },
    {
      "cell_type": "code",
      "metadata": {
        "id": "cU46nvLXKbVT"
      },
      "source": [
        ""
      ],
      "execution_count": null,
      "outputs": []
    },
    {
      "cell_type": "code",
      "metadata": {
        "id": "ck8curpPKbYS"
      },
      "source": [
        ""
      ],
      "execution_count": null,
      "outputs": []
    },
    {
      "cell_type": "code",
      "metadata": {
        "id": "ywjOiUXXKbkx"
      },
      "source": [
        ""
      ],
      "execution_count": null,
      "outputs": []
    },
    {
      "cell_type": "code",
      "metadata": {
        "id": "eTY-fT-MH9r3"
      },
      "source": [
        ""
      ],
      "execution_count": null,
      "outputs": []
    },
    {
      "cell_type": "code",
      "metadata": {
        "id": "BoTcmYkSH9r3"
      },
      "source": [
        ""
      ],
      "execution_count": null,
      "outputs": []
    },
    {
      "cell_type": "markdown",
      "metadata": {
        "id": "mJqJs_K09d2V"
      },
      "source": [
        " ### 14. 多次元配列＆数学計算ライブラリ：Numpy\n",
        "\n",
        "$\\downarrow \\downarrow$ 公式リファレンス $\\downarrow \\downarrow$\\\n",
        " https://numpy.org/doc/stable/reference/\n",
        " "
      ]
    },
    {
      "cell_type": "markdown",
      "metadata": {
        "id": "D2h7MVR2Ko0W"
      },
      "source": [
        "##### task : pdf教材で紹介されているコードを実際に打ち込んで実行してみる"
      ]
    },
    {
      "cell_type": "code",
      "metadata": {
        "id": "gRbza5x_9d7Z"
      },
      "source": [
        ""
      ],
      "execution_count": null,
      "outputs": []
    },
    {
      "cell_type": "code",
      "metadata": {
        "id": "dFVhj4cn9eFc"
      },
      "source": [
        ""
      ],
      "execution_count": null,
      "outputs": []
    },
    {
      "cell_type": "code",
      "metadata": {
        "id": "U77wgdEJKgxb"
      },
      "source": [
        ""
      ],
      "execution_count": null,
      "outputs": []
    },
    {
      "cell_type": "code",
      "metadata": {
        "id": "hfSeBZwfKg1l"
      },
      "source": [
        ""
      ],
      "execution_count": null,
      "outputs": []
    },
    {
      "cell_type": "code",
      "metadata": {
        "id": "CYKlOXOfKhCi"
      },
      "source": [
        ""
      ],
      "execution_count": null,
      "outputs": []
    },
    {
      "cell_type": "code",
      "metadata": {
        "id": "E5ZZjw4uKhAl"
      },
      "source": [
        ""
      ],
      "execution_count": null,
      "outputs": []
    },
    {
      "cell_type": "code",
      "metadata": {
        "id": "gPklDYGIKg-v"
      },
      "source": [
        ""
      ],
      "execution_count": null,
      "outputs": []
    },
    {
      "cell_type": "code",
      "metadata": {
        "id": "37ocmmnnKg86"
      },
      "source": [
        ""
      ],
      "execution_count": null,
      "outputs": []
    },
    {
      "cell_type": "code",
      "metadata": {
        "id": "4tkc3Q_4Kg7C"
      },
      "source": [
        ""
      ],
      "execution_count": null,
      "outputs": []
    },
    {
      "cell_type": "code",
      "metadata": {
        "id": "FTvgYkH_Kg5K"
      },
      "source": [
        ""
      ],
      "execution_count": null,
      "outputs": []
    },
    {
      "cell_type": "code",
      "metadata": {
        "id": "SY_bSXGFKg0D"
      },
      "source": [
        ""
      ],
      "execution_count": null,
      "outputs": []
    }
  ]
}